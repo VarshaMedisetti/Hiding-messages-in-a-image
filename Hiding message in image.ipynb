{
 "cells": [
  {
   "cell_type": "code",
   "execution_count": 18,
   "id": "e2b7e7aa",
   "metadata": {},
   "outputs": [
    {
     "name": "stdout",
     "output_type": "stream",
     "text": [
      "Enter the path to the image: Default.jpg\n",
      "Enter the password: 1234\n",
      "Enter the message: asdfg\n",
      "Message hidden in the image.\n",
      "Enter the password to reveal the message: 6789\n",
      "Revealed Message: Incorrect Password\n"
     ]
    }
   ],
   "source": [
    "from stegano import lsb\n",
    "from PIL import Image\n",
    "\n",
    "# Function to hide a message in an image\n",
    "def hide_message(image_path, message, password, output_path):\n",
    "    # Hide the message in the image using the least significant bit (lsb) method\n",
    "    secret_img = lsb.hide(image_path, password + message)\n",
    "\n",
    "    # Save the new image with the hidden message\n",
    "    secret_img.save(output_path)\n",
    "\n",
    "# Function to reveal the hidden message from an image\n",
    "def reveal_message(image_path, password):\n",
    "    # Reveal the hidden message from the image\n",
    "    hidden_message = lsb.reveal(image_path)\n",
    "\n",
    "    # Check if the correct password is entered\n",
    "    if hidden_message.startswith(password):\n",
    "        return hidden_message[len(password):]  # Remove the password prefix\n",
    "    else:\n",
    "        return \"Incorrect Password\"\n",
    "\n",
    "# Example usage\n",
    "image_path = input(\"Enter the path to the image: \")\n",
    "password = input(\"Enter the password: \")\n",
    "message = input(\"Enter the message: \")\n",
    "\n",
    "# Hide the message in the image\n",
    "hide_message(image_path, message, password, \"output_image.png\")\n",
    "print(\"Message hidden in the image.\")\n",
    "\n",
    "# Enter the password again to reveal the message\n",
    "entered_password = input(\"Enter the password to reveal the message: \")\n",
    "revealed_message = reveal_message(\"output_image.png\", entered_password)\n",
    "\n",
    "# Show the revealed message or indicate an invalid password\n",
    "print(\"Revealed Message:\", revealed_message)\n"
   ]
  },
  {
   "cell_type": "code",
   "execution_count": null,
   "id": "d36b9183",
   "metadata": {},
   "outputs": [],
   "source": []
  }
 ],
 "metadata": {
  "kernelspec": {
   "display_name": "Python 3 (ipykernel)",
   "language": "python",
   "name": "python3"
  },
  "language_info": {
   "codemirror_mode": {
    "name": "ipython",
    "version": 3
   },
   "file_extension": ".py",
   "mimetype": "text/x-python",
   "name": "python",
   "nbconvert_exporter": "python",
   "pygments_lexer": "ipython3",
   "version": "3.11.5"
  }
 },
 "nbformat": 4,
 "nbformat_minor": 5
}
